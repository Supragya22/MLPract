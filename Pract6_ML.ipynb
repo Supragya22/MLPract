{
 "cells": [
  {
   "cell_type": "markdown",
   "id": "54adb20e",
   "metadata": {},
   "source": [
    "# Perform basic operations on matrices (like addition, subtraction, multiplication) and display specific rows or columns of the matrix."
   ]
  },
  {
   "cell_type": "code",
   "execution_count": 7,
   "id": "a812b6cd",
   "metadata": {},
   "outputs": [
    {
     "name": "stdout",
     "output_type": "stream",
     "text": [
      "Matrix after ADDITION:\n",
      " [[ 5  7  9]\n",
      " [11 13 15]] \n",
      "\n",
      "3rd Column of Sum Matrix:\n",
      " [ 9 15] \n",
      "\n",
      "Matrix after SUBTRACTION:\n",
      " [[3 3 3]\n",
      " [3 3 3]] \n",
      "\n",
      "2nd Row of Difference Matrix:\n",
      " [3 3 3] \n",
      "\n",
      "Matrix after MULTIPLICATION:\n",
      " [[ 4 10 18]\n",
      " [28 40 54]] \n",
      "\n",
      "M[1,2]:  54 \n",
      "\n"
     ]
    }
   ],
   "source": [
    "import numpy as np\n",
    "\n",
    "a=np.array([[1,2,3],[4,5,6]])\n",
    "b=np.array([[4,5,6],[7,8,9]])\n",
    "\n",
    "s=a+b\n",
    "print(\"Matrix after ADDITION:\\n\", s,'\\n')\n",
    "print(\"3rd Column of Sum Matrix:\\n\", s[:,2],'\\n')\n",
    "\n",
    "d=b-a\n",
    "print(\"Matrix after SUBTRACTION:\\n\", d,'\\n')\n",
    "print(\"2nd Row of Difference Matrix:\\n\", d[1,:],'\\n')\n",
    "\n",
    "m=a*b\n",
    "print(\"Matrix after MULTIPLICATION:\\n\", m,'\\n')\n",
    "print(\"M[1,2]: \", m[1,2],'\\n')"
   ]
  },
  {
   "cell_type": "code",
   "execution_count": null,
   "id": "4dbc2d65",
   "metadata": {},
   "outputs": [],
   "source": []
  }
 ],
 "metadata": {
  "kernelspec": {
   "display_name": "Python 3 (ipykernel)",
   "language": "python",
   "name": "python3"
  },
  "language_info": {
   "codemirror_mode": {
    "name": "ipython",
    "version": 3
   },
   "file_extension": ".py",
   "mimetype": "text/x-python",
   "name": "python",
   "nbconvert_exporter": "python",
   "pygments_lexer": "ipython3",
   "version": "3.9.7"
  }
 },
 "nbformat": 4,
 "nbformat_minor": 5
}
