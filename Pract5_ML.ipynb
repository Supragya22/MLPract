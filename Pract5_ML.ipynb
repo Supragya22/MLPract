{
 "cells": [
  {
   "cell_type": "markdown",
   "id": "68ac1885",
   "metadata": {},
   "source": [
    "# Use command to compute the size of a matrix, size/length of a particular row/column, load data from a text file, store matrix data to a text file, finding out variables and their features in the current scope."
   ]
  },
  {
   "cell_type": "code",
   "execution_count": 5,
   "id": "2890d228",
   "metadata": {},
   "outputs": [
    {
     "name": "stdout",
     "output_type": "stream",
     "text": [
      "SHAPE:  (2, 4) \n",
      "\n",
      "SIZE:  8 \n",
      "\n",
      "ITEM SIZE:  4 \n",
      "\n",
      "MATRIX:\n",
      " [[ 4 13 12]\n",
      " [ 1  1 12]\n",
      " [17  3  8]]\n"
     ]
    }
   ],
   "source": [
    "import numpy as np\n",
    "\n",
    "x=np.array([[1,2,3,4],[5,6,7,8]])\n",
    "print(\"SHAPE: \", x.shape,'\\n')\n",
    "print(\"SIZE: \", x.size,'\\n')\n",
    "print(\"ITEM SIZE: \", x.itemsize,'\\n')\n",
    "\n",
    "file=np.random.randint(1,20,size=(3,3))\n",
    "np.savetxt('data1.txt',file)\n",
    "np.genfromtxt('data1.txt',delimiter=' ')\n",
    "file=file.astype('int32')\n",
    "print(\"MATRIX:\\n\", file)"
   ]
  },
  {
   "cell_type": "code",
   "execution_count": null,
   "id": "d6826b7e",
   "metadata": {},
   "outputs": [],
   "source": []
  }
 ],
 "metadata": {
  "kernelspec": {
   "display_name": "Python 3 (ipykernel)",
   "language": "python",
   "name": "python3"
  },
  "language_info": {
   "codemirror_mode": {
    "name": "ipython",
    "version": 3
   },
   "file_extension": ".py",
   "mimetype": "text/x-python",
   "name": "python",
   "nbconvert_exporter": "python",
   "pygments_lexer": "ipython3",
   "version": "3.9.7"
  }
 },
 "nbformat": 4,
 "nbformat_minor": 5
}
