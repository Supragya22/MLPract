{
 "cells": [
  {
   "cell_type": "markdown",
   "id": "553a2b64",
   "metadata": {},
   "source": [
    "# Perform other matrix operations like converting matrix data to absolute values, taking the negative of matrix values, additing/removing rows/columns from a matrix, finding the maximum or minimum values in a matrix or in a row/column, and finding the sum of some/all elements in a matrix."
   ]
  },
  {
   "cell_type": "code",
   "execution_count": 9,
   "id": "c889636b",
   "metadata": {},
   "outputs": [
    {
     "name": "stdout",
     "output_type": "stream",
     "text": [
      "MATRIX:\n",
      " [[1 2 4]\n",
      " [5 6 8]] \n",
      "\n",
      "SINE MATRIX:\n",
      " [[ 0.84147098  0.90929743 -0.7568025 ]\n",
      " [-0.95892427 -0.2794155   0.98935825]] \n",
      "\n",
      "ABSOLUTE MATRIX:\n",
      " [[0.84147098 0.90929743 0.7568025 ]\n",
      " [0.95892427 0.2794155  0.98935825]] \n",
      "\n",
      "APPENDED MATRIX:\n",
      " [[ 1  2  4]\n",
      " [ 5  6  8]\n",
      " [ 9 10 12]] \n",
      "\n",
      "2nd ROW DELETED:\n",
      " [[ 1  2  4]\n",
      " [ 9 10 12]] \n",
      "\n",
      "2nd COLUMN DELETED:\n",
      " [[ 1  4]\n",
      " [ 5  8]\n",
      " [ 9 12]] \n",
      "\n",
      "MAX. ELEMENT OF THE MATRIX: 12 \n",
      "\n",
      "MAX. ELEMENT OF THE MATRIX: 1 \n",
      "\n",
      "SUM OF ALL THE ELEMENTS OF THE MATRIX: 57 \n",
      "\n",
      "COLUMN-WISE SUM OF ELEMENTS\n",
      " [15 18 24]\n"
     ]
    }
   ],
   "source": [
    "import numpy as np\n",
    "\n",
    "c=np.array([[1,2,4],[5,6,8]])\n",
    "print(\"MATRIX:\\n\", c, '\\n')\n",
    "\n",
    "v=np.sin(c)\n",
    "print(\"SINE MATRIX:\\n\", v,'\\n')\n",
    "print(\"ABSOLUTE MATRIX:\\n\", np.abs(v),'\\n')\n",
    "\n",
    "d=np.append(c,np.array([[9,10,12]]), axis=0)\n",
    "print(\"APPENDED MATRIX:\\n\", d,'\\n')\n",
    "\n",
    "print(\"2nd ROW DELETED:\\n\", np.delete(d,1,0),'\\n')\n",
    "print(\"2nd COLUMN DELETED:\\n\", np.delete(d,1,1),'\\n')\n",
    "\n",
    "print(\"MAX. ELEMENT OF THE MATRIX:\", np.max(d),'\\n')\n",
    "print(\"MAX. ELEMENT OF THE MATRIX:\", np.min(d),'\\n')\n",
    "\n",
    "print(\"SUM OF ALL THE ELEMENTS OF THE MATRIX:\",np.sum(d),'\\n')\n",
    "print(\"COLUMN-WISE SUM OF ELEMENTS\\n\", np.sum(d,axis=0))"
   ]
  },
  {
   "cell_type": "code",
   "execution_count": null,
   "id": "d135a112",
   "metadata": {},
   "outputs": [],
   "source": []
  }
 ],
 "metadata": {
  "kernelspec": {
   "display_name": "Python 3 (ipykernel)",
   "language": "python",
   "name": "python3"
  },
  "language_info": {
   "codemirror_mode": {
    "name": "ipython",
    "version": 3
   },
   "file_extension": ".py",
   "mimetype": "text/x-python",
   "name": "python",
   "nbconvert_exporter": "python",
   "pygments_lexer": "ipython3",
   "version": "3.9.7"
  }
 },
 "nbformat": 4,
 "nbformat_minor": 5
}
