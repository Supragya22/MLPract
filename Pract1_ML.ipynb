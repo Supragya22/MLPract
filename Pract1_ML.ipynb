{
 "cells": [
  {
   "cell_type": "markdown",
   "id": "2ad7204e",
   "metadata": {},
   "source": [
    "# Perform elementary mathematical operations in Octave/MATLAB/R like addition, multiplication, division and exponentiation."
   ]
  },
  {
   "cell_type": "code",
   "execution_count": 1,
   "id": "d3250f91",
   "metadata": {},
   "outputs": [
    {
     "name": "stdout",
     "output_type": "stream",
     "text": [
      "ENTER THE FIRST NUMBER: 7\n",
      "ENTER THE SECOND NUMBER: 4\n",
      "SELECT ANY ONE OPTION:\n",
      "\t1. ADDITION\n",
      "\t2. SUBTRACTION\n",
      "\t3. MULTIPLICATION\n",
      "\t4. DIVISION\n",
      "\t5. EXPONENTIATION\n",
      "ENTER YOUR CHOICE:1\n",
      "Addition: 11\n",
      "DO YOU WANT TO CONTINUE? ('Y/N')\n",
      "y\n",
      "ENTER YOUR CHOICE:2\n",
      "Subtraction: 3\n",
      "DO YOU WANT TO CONTINUE? ('Y/N')\n",
      "y\n",
      "ENTER YOUR CHOICE:3\n",
      "Multiplication: 28\n",
      "DO YOU WANT TO CONTINUE? ('Y/N')\n",
      "y\n",
      "ENTER YOUR CHOICE:4\n",
      "Division: 1.75\n",
      "DO YOU WANT TO CONTINUE? ('Y/N')\n",
      "y\n",
      "ENTER YOUR CHOICE:5\n",
      "Exponentiation: 2401\n",
      "DO YOU WANT TO CONTINUE? ('Y/N')\n",
      "y\n",
      "ENTER YOUR CHOICE:6\n",
      "WRONG CHOICE\n",
      "DO YOU WANT TO CONTINUE? ('Y/N')\n",
      "n\n",
      "END\n"
     ]
    }
   ],
   "source": [
    "n1=int(input(\"ENTER THE FIRST NUMBER: \"))\n",
    "n2=int(input(\"ENTER THE SECOND NUMBER: \"))\n",
    "print(\"SELECT ANY ONE OPTION:\\n\\t1. ADDITION\\n\\t2. SUBTRACTION\\n\\t3. MULTIPLICATION\\n\\t4. DIVISION\\n\\t5. EXPONENTIATION\")\n",
    "option='y'\n",
    "while(option=='y' or option=='Y'):\n",
    "    choice=int(input(\"ENTER YOUR CHOICE:\"))\n",
    "    if choice==1:\n",
    "        s=n1+n2\n",
    "        print(\"Addition:\",s)\n",
    "    elif choice==2:\n",
    "        d=n1-n2\n",
    "        print(\"Subtraction:\",d)\n",
    "    elif choice==3:\n",
    "        m=n1*n2\n",
    "        print(\"Multiplication:\",m)\n",
    "    elif choice==4:\n",
    "        div=n1/n2\n",
    "        print(\"Division:\",div)\n",
    "    elif choice==5:\n",
    "        e=n1**n2\n",
    "        print(\"Exponentiation:\",e)\n",
    "    else:\n",
    "        print(\"WRONG CHOICE\")\n",
    "    \n",
    "    print(\"DO YOU WANT TO CONTINUE? ('Y/N')\")\n",
    "    option=input()\n",
    "print(\"END\")"
   ]
  },
  {
   "cell_type": "code",
   "execution_count": null,
   "id": "ac38c9d9",
   "metadata": {},
   "outputs": [],
   "source": []
  }
 ],
 "metadata": {
  "kernelspec": {
   "display_name": "Python 3 (ipykernel)",
   "language": "python",
   "name": "python3"
  },
  "language_info": {
   "codemirror_mode": {
    "name": "ipython",
    "version": 3
   },
   "file_extension": ".py",
   "mimetype": "text/x-python",
   "name": "python",
   "nbconvert_exporter": "python",
   "pygments_lexer": "ipython3",
   "version": "3.9.7"
  }
 },
 "nbformat": 4,
 "nbformat_minor": 5
}
