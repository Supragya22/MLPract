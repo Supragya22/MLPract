{
 "cells": [
  {
   "cell_type": "code",
   "execution_count": 6,
   "id": "e6d0457d",
   "metadata": {},
   "outputs": [
    {
     "name": "stdout",
     "output_type": "stream",
     "text": [
      "\n",
      "Alpha Range:  [1e-05, 0.01, 0.05, 0.1, 0.5, 1, 1.5, 3, 5, 6, 7, 8, 9, 10]\n",
      "\n",
      "Alpha Value:  0.01\n",
      "\n",
      "Coefficient:  [-1.13861015e-01  4.12256877e-02 -1.93278669e-02  2.44871215e+00\n",
      " -1.44968099e+01  3.82199823e+00 -7.81325806e-03 -1.37020341e+00\n",
      "  2.08689005e-01 -9.82481934e-03 -9.72643953e-01  8.43720305e-03\n",
      " -4.90564712e-01]\n"
     ]
    }
   ],
   "source": [
    "from sklearn.datasets import load_boston\n",
    "import pandas as pd\n",
    "# split X and y into training and testing sets\n",
    "from sklearn.model_selection import train_test_split\n",
    "# import the class\n",
    "from sklearn.linear_model import RidgeCV, LassoCV\n",
    "from sklearn import metrics\n",
    "import numpy as np\n",
    "\n",
    "boston_dataset = load_boston()\n",
    "boston = pd.DataFrame(boston_dataset.data, columns=boston_dataset.feature_names)\n",
    "\n",
    "boston['MEDV'] = boston_dataset.target\n",
    "boston.head()\n",
    "\n",
    "x = boston.drop(['MEDV'], axis=1)\n",
    "y = boston['MEDV']\n",
    "x_train,x_test,y_train,y_test=train_test_split(x,y,test_size=0.25,random_state=0)\n",
    "\n",
    "alpha_range=[0.00001, 0.01, 0.05, 0.1, 0.5, 1, 1.5, 3, 5, 6, 7, 8, 9, 10]\n",
    "ridgecv=RidgeCV(alphas=alpha_range, normalize=True, scoring='neg_mean_squared_error')\n",
    "ridgecv.fit(x_train,y_train)\n",
    "\n",
    "print(\"\\nAlpha Range: \", alpha_range)\n",
    "print(\"\\nAlpha Value: \", ridgecv.alpha_)\n",
    "print(\"\\nCoefficient: \", ridgecv.coef_)"
   ]
  },
  {
   "cell_type": "code",
   "execution_count": 7,
   "id": "500694a3",
   "metadata": {},
   "outputs": [
    {
     "name": "stdout",
     "output_type": "stream",
     "text": [
      "\n",
      "Accuracy Score:  0.6322070128554689\n",
      "\n",
      "Mean Absolute Error:  3.6679777452193574\n",
      "\n",
      "Mean Squared Score:  30.048324934720537\n",
      "\n",
      "Root Mean Squared Error  5.481635242764748\n"
     ]
    }
   ],
   "source": [
    "y_pred=ridgecv.predict(x_test)\n",
    "\n",
    "print(\"\\nAccuracy Score: \", ridgecv.score(x_test,y_test))\n",
    "print(\"\\nMean Absolute Error: \",metrics.mean_absolute_error(y_test,y_pred))\n",
    "print(\"\\nMean Squared Score: \",metrics.mean_squared_error(y_test,y_pred))\n",
    "print(\"\\nRoot Mean Squared Error \",np.sqrt(metrics.mean_squared_error(y_test,y_pred)))"
   ]
  },
  {
   "cell_type": "code",
   "execution_count": 9,
   "id": "8090cbed",
   "metadata": {},
   "outputs": [
    {
     "name": "stdout",
     "output_type": "stream",
     "text": [
      "\n",
      "Alpha Range:  [1e-06, 0.0001, 0.001, 0.005, 0.01, 0.05, 0.1, 0.2, 0.3, 0.4, 0.5]\n",
      "\n",
      "Alpha Value:  1e-05\n",
      "\n",
      "Coefficient:  [-1.17660911e-01  4.39875866e-02 -5.81576667e-03  2.39328094e+00\n",
      " -1.55815760e+01  3.76933909e+00 -7.02220691e-03 -1.43422387e+00\n",
      "  2.39751536e-01 -1.12833576e-02 -9.85455195e-01  8.44173540e-03\n",
      " -4.99134840e-01]\n"
     ]
    }
   ],
   "source": [
    "#Lasso\n",
    "lambda_values = [0.000001, 0.0001, 0.001, 0.005, 0.01, 0.05,  0.1, 0.2, 0.3, 0.4, 0.5]\n",
    "lassocv=LassoCV(alphas=alpha_range, normalize=True)\n",
    "lassocv.fit(x_train,y_train)\n",
    "\n",
    "print(\"\\nAlpha Range: \", lambda_values)\n",
    "print(\"\\nAlpha Value: \", lassocv.alpha_)\n",
    "print(\"\\nCoefficient: \", lassocv.coef_)"
   ]
  },
  {
   "cell_type": "code",
   "execution_count": 10,
   "id": "eeda4868",
   "metadata": {},
   "outputs": [
    {
     "name": "stdout",
     "output_type": "stream",
     "text": [
      "\n",
      "Accuracy Score  0.6354423976617791\n",
      "\n",
      "Mean Absolute Error:  3.6683036000753866\n",
      "\n",
      "Mean Squared Score:  29.783997181481826\n",
      "\n",
      "Root Mean Squared Error  5.457471683983512\n"
     ]
    }
   ],
   "source": [
    "y_pred=lassocv.predict(x_test)\n",
    "\n",
    "print(\"\\nAccuracy Score \", lassocv.score(x_test,y_test))\n",
    "print(\"\\nMean Absolute Error: \",metrics.mean_absolute_error(y_test,y_pred))\n",
    "print(\"\\nMean Squared Score: \",metrics.mean_squared_error(y_test,y_pred))\n",
    "print(\"\\nRoot Mean Squared Error \",np.sqrt(metrics.mean_squared_error(y_test,y_pred)))"
   ]
  },
  {
   "cell_type": "code",
   "execution_count": null,
   "id": "5f3d44e6",
   "metadata": {},
   "outputs": [],
   "source": []
  }
 ],
 "metadata": {
  "kernelspec": {
   "display_name": "Python 3 (ipykernel)",
   "language": "python",
   "name": "python3"
  },
  "language_info": {
   "codemirror_mode": {
    "name": "ipython",
    "version": 3
   },
   "file_extension": ".py",
   "mimetype": "text/x-python",
   "name": "python",
   "nbconvert_exporter": "python",
   "pygments_lexer": "ipython3",
   "version": "3.9.7"
  }
 },
 "nbformat": 4,
 "nbformat_minor": 5
}
