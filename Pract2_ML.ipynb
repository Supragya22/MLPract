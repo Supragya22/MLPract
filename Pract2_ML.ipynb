{
 "cells": [
  {
   "cell_type": "markdown",
   "id": "13511620",
   "metadata": {},
   "source": [
    "# Perform elementary logical operations in Octave/MATLAB/R (like OR, AND, Checking for Equality, NOT, XOR)."
   ]
  },
  {
   "cell_type": "code",
   "execution_count": 2,
   "id": "120de494",
   "metadata": {},
   "outputs": [
    {
     "name": "stdout",
     "output_type": "stream",
     "text": [
      "X AND Y is:  False\n",
      "X OR Y is:  True\n",
      "NOT X is:  False\n",
      "NOT Y is:  True\n",
      "X XOR y is:  True\n",
      "X == Y is:  False\n"
     ]
    }
   ],
   "source": [
    "X=True\n",
    "Y=False\n",
    "print(\"X AND Y is: \", X and Y)\n",
    "print(\"X OR Y is: \", X or Y)\n",
    "print(\"NOT X is: \", not X)\n",
    "print(\"NOT Y is: \", not Y)\n",
    "print(\"X XOR y is: \", X ^ Y)\n",
    "print(\"X == Y is: \", X==Y)"
   ]
  },
  {
   "cell_type": "code",
   "execution_count": null,
   "id": "f6a43985",
   "metadata": {},
   "outputs": [],
   "source": []
  }
 ],
 "metadata": {
  "kernelspec": {
   "display_name": "Python 3 (ipykernel)",
   "language": "python",
   "name": "python3"
  },
  "language_info": {
   "codemirror_mode": {
    "name": "ipython",
    "version": 3
   },
   "file_extension": ".py",
   "mimetype": "text/x-python",
   "name": "python",
   "nbconvert_exporter": "python",
   "pygments_lexer": "ipython3",
   "version": "3.9.7"
  }
 },
 "nbformat": 4,
 "nbformat_minor": 5
}
