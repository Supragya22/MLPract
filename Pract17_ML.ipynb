{
 "cells": [
  {
   "cell_type": "code",
   "execution_count": 1,
   "id": "00b8ffc7",
   "metadata": {},
   "outputs": [
    {
     "name": "stdout",
     "output_type": "stream",
     "text": [
      "   Unnamed: 0     TV  radio  newspaper  sales\n",
      "0           1  230.1   37.8       69.2   22.1\n",
      "1           2   44.5   39.3       45.1   10.4\n",
      "2           3   17.2   45.9       69.3    9.3\n",
      "3           4  151.5   41.3       58.5   18.5\n",
      "4           5  180.8   10.8       58.4   12.9\n",
      "\n",
      "Estimated coefficients:\n",
      "b_0(Intercept) = 7.032593549127706     \n",
      "b_1(Coefficient) = 0.04753664043301968\n"
     ]
    }
   ],
   "source": [
    "import numpy as np\n",
    "import pandas as pd\n",
    "import matplotlib.pyplot as plt\n",
    "\n",
    "def estimate_coef(x, y):\n",
    "    # number of observations/points\n",
    "    n = np.size(x)\n",
    "    \n",
    "    # mean of x and y vector\n",
    "    m_x = np.mean(x)\n",
    "    m_y = np.mean(y)\n",
    "    \n",
    "    # calculating cross-deviation and deviation about x\n",
    "    SS_xy = np.sum(y*x) - n*m_y*m_x\n",
    "    SS_xx = np.sum(x*x) - n*m_x*m_x\n",
    "    \n",
    "    # calculating regression coefficients\n",
    "    b_1 = SS_xy / SS_xx\n",
    "    b_0 = m_y - b_1*m_x\n",
    "    \n",
    "    return (b_0, b_1)\n",
    "\n",
    "# observations / data\n",
    "adv = pd.read_csv(\"Advertising.csv\")\n",
    "print(adv.head())  \n",
    "x = adv['TV']\n",
    "y = adv['sales']\n",
    "# estimating coefficients\n",
    "b = estimate_coef(x, y)\n",
    "print(\"\\nEstimated coefficients:\\nb_0(Intercept) = {} \\\n",
    "    \\nb_1(Coefficient) = {}\".format(b[0], b[1]))"
   ]
  },
  {
   "cell_type": "code",
   "execution_count": 2,
   "id": "276e5775",
   "metadata": {},
   "outputs": [
    {
     "name": "stdout",
     "output_type": "stream",
     "text": [
      "Accuracy Score:  0.611875050850071\n",
      "Mean Squared Error:  7.753102470215777e-30\n",
      "Root Mean Squared Error:  2.7844393457598924e-15\n"
     ]
    }
   ],
   "source": [
    "y_pred = b[0] + b[1]*x\n",
    "\n",
    "y_bar=np.mean(y)\n",
    "ssr=np.sum((y-y_pred)*(y-y_pred))\n",
    "sst=np.sum((y-y_bar)*(y-y_bar))\n",
    "acc=1-(ssr/sst)\n",
    "print(\"Accuracy Score: \", acc)\n",
    "\n",
    "var=np.mean(y-y_pred)\n",
    "MSE=var*var\n",
    "print(\"Mean Squared Error: \", MSE)\n",
    "print(\"Root Mean Squared Error: \", np.sqrt(MSE))"
   ]
  },
  {
   "cell_type": "code",
   "execution_count": 4,
   "id": "b0fd8f53",
   "metadata": {},
   "outputs": [
    {
     "data": {
      "image/png": "[encoded data removed]",
      "text/plain": [
       "<Figure size 432x288 with 1 Axes>"
      ]
     },
     "metadata": {
      "needs_background": "light"
     },
     "output_type": "display_data"
    }
   ],
   "source": [
    "#Plot Regression Line\n",
    "    \n",
    "# plotting the actual points as scatter plot\n",
    "plt.scatter(x, y, color = \"r\", s = 30)\n",
    "    \n",
    "# predicted response vector\n",
    "y_pred = b[0] + b[1]*x\n",
    "    \n",
    "# plotting the regression line\n",
    "plt.plot(x, y_pred, color = \"black\")\n",
    "    \n",
    "# putting labels\n",
    "plt.xlabel('TV')\n",
    "plt.ylabel('Sales')\n",
    "    \n",
    "# function to show plot\n",
    "plt.show()\n"
   ]
  },
  {
   "cell_type": "code",
   "execution_count": null,
   "id": "cd89e525",
   "metadata": {},
   "outputs": [],
   "source": []
  }
 ],
 "metadata": {
  "kernelspec": {
   "display_name": "Python 3 (ipykernel)",
   "language": "python",
   "name": "python3"
  },
  "language_info": {
   "codemirror_mode": {
    "name": "ipython",
    "version": 3
   },
   "file_extension": ".py",
   "mimetype": "text/x-python",
   "name": "python",
   "nbconvert_exporter": "python",
   "pygments_lexer": "ipython3",
   "version": "3.9.7"
  }
 },
 "nbformat": 4,
 "nbformat_minor": 5
}
