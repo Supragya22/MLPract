{
 "cells": [
  {
   "cell_type": "markdown",
   "id": "5ed781a9",
   "metadata": {},
   "source": [
    "# Perform vectorized implementation of simple matrix operation like finding the transpose of a matrix, adding, subtracting or multiplying two matrices."
   ]
  },
  {
   "cell_type": "code",
   "execution_count": 15,
   "id": "75d47d0c",
   "metadata": {},
   "outputs": [
    {
     "name": "stdout",
     "output_type": "stream",
     "text": [
      "MATRIX 1:\n",
      " [[1 2 3]\n",
      " [4 5 6]\n",
      " [1 1 1]] \n",
      "\n",
      "MATRIX 2:\n",
      " [[ 6  7  8]\n",
      " [ 9 10 11]\n",
      " [ 2  2  2]] \n",
      "\n",
      "TRANSPOSE OF MATRIX 1:\n",
      " [[1 4 1]\n",
      " [2 5 1]\n",
      " [3 6 1]] \n",
      "\n",
      "M1+M2:\n",
      " [[ 7  9 11]\n",
      " [13 15 17]\n",
      " [ 3  3  3]] \n",
      "\n",
      "M1-M2:\n",
      " [[5 5 5]\n",
      " [5 5 5]\n",
      " [1 1 1]] \n",
      "\n",
      "M1*M2:\n",
      " [[30 33 36]\n",
      " [81 90 99]\n",
      " [17 19 21]] \n",
      "\n"
     ]
    }
   ],
   "source": [
    "import numpy as np\n",
    "a=np.array([[1,2,3],[4,5,6],[1,1,1]])\n",
    "b=np.array([[6,7,8],[9,10,11],[2,2,2]])\n",
    "print(\"MATRIX 1:\\n\", a,'\\n')\n",
    "print(\"MATRIX 2:\\n\", b,'\\n')\n",
    "print(\"TRANSPOSE OF MATRIX 1:\\n\", np.transpose(a),'\\n')\n",
    "print(\"M1+M2:\\n\", a+b,'\\n')\n",
    "print(\"M1-M2:\\n\", b-a,'\\n')\n",
    "print(\"M1*M2:\\n\", np.matmul(a,b),'\\n')"
   ]
  },
  {
   "cell_type": "code",
   "execution_count": null,
   "id": "0ab4072c",
   "metadata": {},
   "outputs": [],
   "source": []
  }
 ],
 "metadata": {
  "kernelspec": {
   "display_name": "Python 3 (ipykernel)",
   "language": "python",
   "name": "python3"
  },
  "language_info": {
   "codemirror_mode": {
    "name": "ipython",
    "version": 3
   },
   "file_extension": ".py",
   "mimetype": "text/x-python",
   "name": "python",
   "nbconvert_exporter": "python",
   "pygments_lexer": "ipython3",
   "version": "3.9.7"
  }
 },
 "nbformat": 4,
 "nbformat_minor": 5
}
