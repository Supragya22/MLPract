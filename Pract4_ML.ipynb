{
 "cells": [
  {
   "cell_type": "markdown",
   "id": "cc84457e",
   "metadata": {},
   "source": [
    "# Create/Define single dimension / multi-dimension arrays, and arrays with specific values like array of all ones, all zeros, array with random values within a range, or a diagonal matrix."
   ]
  },
  {
   "cell_type": "code",
   "execution_count": 4,
   "id": "14a73953",
   "metadata": {},
   "outputs": [
    {
     "name": "stdout",
     "output_type": "stream",
     "text": [
      "Matrix 1:  [1 2 3]\n",
      "Matrix 2:\n",
      " [[4 5 6]\n",
      " [1 3 7]] \n",
      "\n",
      "Ones Matrix:\n",
      " [[1 1 1]\n",
      " [1 1 1]] \n",
      "\n",
      "Zeroes Matrix:\n",
      " [[0 0]\n",
      " [0 0]] \n",
      "\n",
      "Random Value Matrix:\n",
      " [[5 3 2]\n",
      " [2 3 4]\n",
      " [5 4 3]] \n",
      "\n",
      "Diagonal Matrix:\n",
      " [[1 0 0 0]\n",
      " [0 2 0 0]\n",
      " [0 0 3 0]\n",
      " [0 0 0 4]]\n"
     ]
    }
   ],
   "source": [
    "import numpy as np\n",
    "m=np.array([1,2,3])\n",
    "print(\"Matrix 1: \", m)\n",
    "\n",
    "n=np.array([[4,5,6],[1,3,7]])\n",
    "print(\"Matrix 2:\\n\", n,'\\n')\n",
    "\n",
    "b=np.ones((2,3)).astype('int32')\n",
    "print(\"Ones Matrix:\\n\", b,'\\n')\n",
    "\n",
    "a=np.zeros((2,2)).astype('int32')\n",
    "print(\"Zeroes Matrix:\\n\", a,'\\n')\n",
    "\n",
    "c=np.random.randint(1,7,size=(3,3))\n",
    "print(\"Random Value Matrix:\\n\", c,'\\n')\n",
    "\n",
    "d=np.diag([1,2,3,4])\n",
    "print(\"Diagonal Matrix:\\n\",d)"
   ]
  },
  {
   "cell_type": "code",
   "execution_count": null,
   "id": "5d903187",
   "metadata": {},
   "outputs": [],
   "source": []
  }
 ],
 "metadata": {
  "kernelspec": {
   "display_name": "Python 3 (ipykernel)",
   "language": "python",
   "name": "python3"
  },
  "language_info": {
   "codemirror_mode": {
    "name": "ipython",
    "version": 3
   },
   "file_extension": ".py",
   "mimetype": "text/x-python",
   "name": "python",
   "nbconvert_exporter": "python",
   "pygments_lexer": "ipython3",
   "version": "3.9.7"
  }
 },
 "nbformat": 4,
 "nbformat_minor": 5
}
