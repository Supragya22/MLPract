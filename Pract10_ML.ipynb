{
 "cells": [
  {
   "cell_type": "markdown",
   "id": "6ab404d8",
   "metadata": {},
   "source": [
    "# Use conditional statements and different type of loops based on simple example/s."
   ]
  },
  {
   "cell_type": "code",
   "execution_count": 14,
   "id": "e3851e17",
   "metadata": {},
   "outputs": [
    {
     "name": "stdout",
     "output_type": "stream",
     "text": [
      "Enter a String: madam\n",
      "madam is Palindrome\n"
     ]
    }
   ],
   "source": [
    "s=input(\"Enter a String: \")\n",
    "s1=\"\"\n",
    "for i in s:\n",
    "    s1=i+s1\n",
    "if(s1==s):\n",
    "    print(s,\"is Palindrome\")\n",
    "else:\n",
    "    print(s,\"is not Palindrome\")"
   ]
  },
  {
   "cell_type": "code",
   "execution_count": null,
   "id": "998f0fd5",
   "metadata": {},
   "outputs": [],
   "source": []
  }
 ],
 "metadata": {
  "kernelspec": {
   "display_name": "Python 3 (ipykernel)",
   "language": "python",
   "name": "python3"
  },
  "language_info": {
   "codemirror_mode": {
    "name": "ipython",
    "version": 3
   },
   "file_extension": ".py",
   "mimetype": "text/x-python",
   "name": "python",
   "nbconvert_exporter": "python",
   "pygments_lexer": "ipython3",
   "version": "3.9.7"
  }
 },
 "nbformat": 4,
 "nbformat_minor": 5
}
