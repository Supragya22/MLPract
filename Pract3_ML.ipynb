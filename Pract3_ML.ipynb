{
 "cells": [
  {
   "cell_type": "markdown",
   "id": "4ee776d7",
   "metadata": {},
   "source": [
    "# Create, initialize and display simple variables and simple strings and use simple formatting for variable."
   ]
  },
  {
   "cell_type": "code",
   "execution_count": 3,
   "id": "528cab8f",
   "metadata": {},
   "outputs": [
    {
     "name": "stdout",
     "output_type": "stream",
     "text": [
      "70\n",
      "Hello\n",
      "Hello World\n"
     ]
    }
   ],
   "source": [
    "x=45\n",
    "y=25\n",
    "s=\"Hello\"\n",
    "z=x+y\n",
    "print(z)\n",
    "print(s)\n",
    "print(s+\" World\")"
   ]
  },
  {
   "cell_type": "code",
   "execution_count": null,
   "id": "8110f72f",
   "metadata": {},
   "outputs": [],
   "source": []
  }
 ],
 "metadata": {
  "kernelspec": {
   "display_name": "Python 3 (ipykernel)",
   "language": "python",
   "name": "python3"
  },
  "language_info": {
   "codemirror_mode": {
    "name": "ipython",
    "version": 3
   },
   "file_extension": ".py",
   "mimetype": "text/x-python",
   "name": "python",
   "nbconvert_exporter": "python",
   "pygments_lexer": "ipython3",
   "version": "3.9.7"
  }
 },
 "nbformat": 4,
 "nbformat_minor": 5
}
